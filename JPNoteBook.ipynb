{
 "cells": [
  {
   "cell_type": "markdown",
   "id": "dc02e145",
   "metadata": {},
   "source": [
    "# Jupyter Notebook\n",
    "Jupyter Notebook adalah lingkungan komputasi interaktif yang memungkinkan pengguna untuk membuat dan berbagi dokumen yang berisi kode, visualisasi, dan teks naratif. Berikut adalah materi penggunaan Jupyter Notebook yang mencakup dasar-dasar dan beberapa fitur canggih:"
   ]
  },
  {
   "cell_type": "markdown",
   "id": "4f177dfa",
   "metadata": {},
   "source": [
    "## Instalasi dan Menjalankan Jupyter Notebook:\n",
    "- Instal Jupyter Notebook menggunakan pip: pip install jupyter\n",
    "- Atau, instal Anaconda distribution: https://www.anaconda.com/products/distribution\n",
    "- Jalankan Jupyter Notebook: Ketik jupyter notebook di terminal atau command prompt\n",
    "- Jupyter Notebook akan membuka antarmuka web dalam browser Anda"
   ]
  },
  {
   "cell_type": "markdown",
   "id": "96cda97c",
   "metadata": {},
   "source": [
    "# Membuat dan Mengelola Notebook:\n",
    "- Membuat notebook baru: Klik \"New\" di pojok kanan atas, pilih kernel (misalnya, Python 3)\n",
    "- Menyimpan notebook: Klik \"File\" > \"Save and Checkpoint\" atau tekan Ctrl+S\n",
    "- Membuka notebook yang ada: Klik pada file .ipynb dalam direktori yang ditampilkan\n",
    "- Mengganti nama notebook: Klik pada judul notebook (di atas menu) untuk mengganti nama"
   ]
  },
  {
   "cell_type": "markdown",
   "id": "855d6928",
   "metadata": {},
   "source": [
    "# Sel Kode dan Sel Markdown:\n",
    "\n",
    "- Sel Kode: Digunakan untuk menulis dan menjalankan kode; tekan Shift+Enter untuk menjalankan sel\n",
    "- Sel Markdown: Digunakan untuk menulis teks naratif, judul, daftar, atau persamaan; tekan Shift+Enter untuk merender teks\n",
    "- Menambahkan sel baru: Klik \"Insert\" > \"Insert Cell Above\" atau \"Insert Cell Below\"\n",
    "- Mengubah jenis sel: Klik dropdown menu di toolbar, pilih \"Code\" atau \"Markdown\""
   ]
  },
  {
   "cell_type": "markdown",
   "id": "f11047e7",
   "metadata": {},
   "source": [
    "# Keyboard Shortcuts:\n",
    "\n",
    "- Shift+Enter: Menjalankan sel saat ini dan memindahkan fokus ke sel berikutnya\n",
    "- Ctrl+Enter: Menjalankan sel saat ini tanpa memindahkan fokus\n",
    "- Alt+Enter: Menjalankan sel saat ini dan membuat sel baru di bawahnya\n",
    "- Esc: Masuk ke mode command (untuk mengakses pintasan keyboard lainnya)\n",
    "- a/b: Menambahkan sel baru di atas (a) atau di bawah (b) sel saat ini\n",
    "- x/c/v: Memotong (x), menyalin (c), atau menempelkan (v) sel yang dipilih\n",
    "- dd: Menghapus sel yang dipilih\n",
    "- z: Mengembalikan penghapusan sel terakhir\n",
    "- h/j/k/l: Navigasi antar sel menggunakan tombol arah"
   ]
  },
  {
   "cell_type": "code",
   "execution_count": null,
   "id": "5e1089ef",
   "metadata": {},
   "outputs": [],
   "source": [
    "import pandas as pd\n",
    "df = pd.read_csv()"
   ]
  },
  {
   "cell_type": "code",
   "execution_count": null,
   "id": "b9a2fa4e",
   "metadata": {},
   "outputs": [],
   "source": []
  },
  {
   "cell_type": "code",
   "execution_count": null,
   "id": "01959774",
   "metadata": {},
   "outputs": [],
   "source": []
  }
 ],
 "metadata": {
  "kernelspec": {
   "display_name": "Python 3 (ipykernel)",
   "language": "python",
   "name": "python3"
  },
  "language_info": {
   "codemirror_mode": {
    "name": "ipython",
    "version": 3
   },
   "file_extension": ".py",
   "mimetype": "text/x-python",
   "name": "python",
   "nbconvert_exporter": "python",
   "pygments_lexer": "ipython3",
   "version": "3.9.16"
  }
 },
 "nbformat": 4,
 "nbformat_minor": 5
}
